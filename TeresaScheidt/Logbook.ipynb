{
 "cells": [
  {
   "cell_type": "markdown",
   "metadata": {},
   "source": [
    "# Logbook Teresa Scheidt\n",
    "\n",
    "## Project: Prediction of Staining\n"
   ]
  },
  {
   "cell_type": "markdown",
   "metadata": {},
   "source": [
    "## 26.03.2021\n",
    "__Aim__\\\n",
    "getting started with GitHub and the project\n",
    "\n",
    "__Description__\n",
    "- set up Github account and folder for project and main documents for documentation \n",
    "- read paper [In Silico Labeling: Predicting Fluorescent Labels in Unlabeled Images](https://pubmed.ncbi.nlm.nih.gov/29656897/)\n",
    "\n",
    "\n",
    "__Next steps__\\\n",
    "getting familiar with the dataset and existing code\n",
    "\n",
    "## 30.03.2021\n",
    "__Aim__\\\n",
    "setting up necessary accounts, getting familiar with virtual staining\n",
    "\n",
    "__Description__\n",
    "- set up LUNARC account\n",
    "- read papers\n",
    "\n",
    "__Next steps__\\\n",
    "getting familiar with the dataset and existing code\n",
    "\n",
    "\n",
    "## 01.04.2021\n",
    "__Aim__\\\n",
    "converting images, get familiar with existing code\n",
    "\n",
    "__Description__\n",
    "- convert C01 files to png files with [C01toPNG.py](https://github.com/Aitslab/virtualstain/blob/cd435161990fe8dc6cef47a3bc57b971428a9356/TeresaScheidt/src/C01toPNG.py) (not successfull: no converted files afterwards)\n",
    "    - data from [zip folder](https://lunduniversityo365.sharepoint.com/sites/CDLAI_EDAN70/Delade%20dokument/virtual%20staining/MFGTMPcx7_170802000001.zip) provided by Sonja in the virtual staining chat on 20210330\n",
    "- understanding code from AZ project\n",
    "\n",
    "__Next steps__\\\n",
    "Adapting code and run on example images\n",
    "\n",
    "\n",
    "## 05.04.2021\n",
    "__Aim__\\\n",
    "Conversion and Normalization of images\n",
    "\n",
    "__Description__\n",
    "- conversion of C01 files to png files with [C01toPNG.py](https://github.com/Aitslab/virtualstain/blob/cd435161990fe8dc6cef47a3bc57b971428a9356/TeresaScheidt/src/C01toPNG.py) in seperate conda enviroment\n",
    "    - partly successfull: converted images in goal folder, but it's the same image 50 times \n",
    "- using mean and std normalization, code can be run in [jupyter notebook](https://github.com/Aitslab/virtualstain/blob/cd435161990fe8dc6cef47a3bc57b971428a9356/TeresaScheidt/src/normalization.ipynb)\n",
    "    - data from [zip folder](https://lunduniversityo365-my.sharepoint.com/personal/ma8244mi-s_lu_se/Documents/Microsoft%20Teams%20Chat%20Files/Sample_16bitpng_to_Teresa.tar.gz) provided by Mariam in cldai general chat on 20210401\n",
    "- Problem: converted images are all the same?? \n",
    "\n",
    "__Next steps__\\\n",
    "more preprocessing of images\\\n",
    "solve problems with conversion of images\n",
    "\n",
    "\n",
    "## 06.04.2021\n",
    "__Aim__\n",
    "- activate Lunarc account, get familiar with enviroment\n",
    "- apply batch normalization and check revision of normalization\n",
    "\n",
    "__Description__\n",
    "- Lunarc account is active now, no problems with accessing it and the dataset /lunarc/nobackup/projects/snic2020-6-41/Shared_data/Saved_selected_CO1_images/Saved_selected_images\n",
    "- function for Batch normalization and unnormalization implemented in [preprocessing_functions.py](https://github.com/Aitslab/virtualstain/blob/cd435161990fe8dc6cef47a3bc57b971428a9356/TeresaScheidt/src/preprocessing_functions.py), test runs in [jupyter notebook](https://github.com/Aitslab/virtualstain/blob/cd435161990fe8dc6cef47a3bc57b971428a9356/TeresaScheidt/src/normalization.ipynb):\n",
    "    - normalization works and unnormalizing gives same images as input images \n",
    "\n",
    "__Next Steps__\\\n",
    "adapting Unet and training on small sample of images\n",
    "\n",
    "\n",
    "\n"
   ]
  },
  {
   "cell_type": "code",
   "execution_count": null,
   "metadata": {},
   "outputs": [],
   "source": []
  }
 ],
 "metadata": {
  "kernelspec": {
   "display_name": "Python 3",
   "language": "python",
   "name": "python3"
  },
  "language_info": {
   "codemirror_mode": {
    "name": "ipython",
    "version": 3
   },
   "file_extension": ".py",
   "mimetype": "text/x-python",
   "name": "python",
   "nbconvert_exporter": "python",
   "pygments_lexer": "ipython3",
   "version": "3.8.5"
  }
 },
 "nbformat": 4,
 "nbformat_minor": 4
}
