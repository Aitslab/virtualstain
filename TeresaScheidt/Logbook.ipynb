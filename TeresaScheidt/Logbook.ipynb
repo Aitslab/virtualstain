{
 "cells": [
  {
   "cell_type": "markdown",
   "metadata": {},
   "source": [
    "# Logbook Teresa Scheidt\n",
    "\n",
    "## Project: Prediction of Staining\n"
   ]
  },
  {
   "cell_type": "markdown",
   "metadata": {},
   "source": [
    "## 26.03.2021\n",
    "__Aim__\n",
    "getting started with GitHub and the project\n",
    "\n",
    "__Description__\n",
    "- set up Github account and folder for project and main documents for documentation \n",
    "- read paper [In Silico Labeling: Predicting Fluorescent Labels in Unlabeled Images](https://pubmed.ncbi.nlm.nih.gov/29656897/)\n",
    "\n",
    "\n",
    "__Next steps__\n",
    "getting familiar with the dataset and existing code\n",
    "\n",
    "## 30.03.2021\n",
    "__Aim__\n",
    "setting up necessary accounts, getting familiar with virtual staining\n",
    "\n",
    "__Description__\n",
    "- set up LUNARC account\n",
    "- read papers\n",
    "\n",
    "__Next steps__\n",
    "getting familiar with the dataset and existing code\n",
    "\n",
    "## 01.04.2021\n",
    "__Aim__\n",
    "converting images, get familiar with existing code\n",
    "\n",
    "__Description__\n",
    "- convert C01 files to png files (not successfull)\n",
    "- understanding code from AZ project\n",
    "\n",
    "__Next steps__\n",
    "Adapting code and run on example images\n",
    "\n",
    "\n",
    "\n"
   ]
  },
  {
   "cell_type": "code",
   "execution_count": null,
   "metadata": {},
   "outputs": [],
   "source": []
  }
 ],
 "metadata": {
  "kernelspec": {
   "display_name": "Python 3",
   "language": "python",
   "name": "python3"
  },
  "language_info": {
   "codemirror_mode": {
    "name": "ipython",
    "version": 3
   },
   "file_extension": ".py",
   "mimetype": "text/x-python",
   "name": "python",
   "nbconvert_exporter": "python",
   "pygments_lexer": "ipython3",
   "version": "3.8.5"
  }
 },
 "nbformat": 4,
 "nbformat_minor": 4
}
