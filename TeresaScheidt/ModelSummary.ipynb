{
 "cells": [
  {
   "cell_type": "markdown",
   "metadata": {},
   "source": [
    "# Model summary\n",
    "\n",
    "The following notebook contains details of models trained for the Project 'Virtual Staining'. The trained models can be found on Lunarc *add path*. \n",
    "\n",
    "###  Models\n",
    "\n",
    "Model | Input_size | Net | Epochs (early stopping) | batch-size | training_set | loss | train_loss | val_loss | prediction setup |comments\n",
    "---|---|---|---|---|---|---|---|---|---|---\n",
    "mdl_d1_8bit_01 | 128x128 | Unet_base | 15 | 13 | 8bit_156, 130 images| mse| 0.5852 | 0.7176 | 128x128, overlap 32, no merge | only predicts d1 channel\n",
    "mdl_d2_8bit_01 | 128x128 |Unet_base | 15 | 13 | 8bit_156, 130 images | mse| 0.2803 | 0.2671| 128x128, overlap 32, no merge  | only predicts d2 channel\n",
    "mdl_d1_16bit_01 | 128x128 | Unet_base| 15 | 10 | 16bit_52, 40 images | mse| 0.6490  | 0.7561 |128x128, overlap 32, no merge  | only predicts d1 channel, 10 steps per epoch\n",
    "mdl_d2_16bit_01 | 128x128 |Unet_base | 15 | 10 | 16bit_52, 40 images | mse| 0.2977 | 0.4302| 128x128, overlap 32, no merge  | only predicts d2 channel, 10 steps per epoch\n",
    "mdl_d1d2_16bit_01  | 128x128 |Unet_2channel | 15 | 10 | 16bit_52, 40 images | mse| 0.5368 | 0.8536| 128x128, overlap 32, no merge  | 10 steps per epoch\n",
    "d1d2_8im | 128x128 |Unet_2channel | 50 (30)| 32 | 16bit_8 |mse| 0.3662 | 0.3163 | 128x128, overlap 32, no merge  | 10 steps per epoch, validation with val_set1\n",
    "d1d2_16im | 128x128 |Unet_2channel | 50 (28)| 32 | 16bit_16 |mse| 0.3984 | 0.3268 | 128x128, overlap 32, no merge  | 10 steps per epoch, validation with val_set1\n",
    "d1d2_32im | 128x128 |Unet_2channel | 50 (28) | 32 |16bit_32 |mse| 0.4145  | 0.3571 | 128x128, overlap 32, no merge  | 10 steps per epoch, validation with val_set1\n",
    "d1d2_56im | 128x128 |Unet_2channel | 50 (29) | 32 | 16bit_56 |mse| 0.3594 | 0.3633 | 128x128, overlap 32, no merge  | 10 steps per epoch, validation with val_set1\n",
    "d1d2_256im | 128x128 |Unet_2channel | 50 (23) | 32 | 16bit_56 |mse| 0.4313 | 0.3807 | 128x128, overlap 32, no merge  | 10 steps per epoch, validation with val_set2\n",
    "d1d2_539im | 128x128 |Unet_2channel | 50 (42) | 32 | 16bit_539 |mse| 0.4621 | 0.3551 | 1104x1104, exchange input layer  | 10 steps per epoch, validation with big_val\n",
    "d1d2_32im_ssim | 128x128 |Unet_2channel | 50 (13)| 32 | 16bit_32 |ssim| 0.2301 | 0.2351 |  1104x1104, exchange input layer  | 10 steps per epoch, validation with big_val, very high mse\n",
    "d1d2_mse_ssim_recentered | 128x128 |Unet_2channel | 50 (48)| 32 | 16bit_32 |ssim+mse| 0.0211 | 0.0213 |  1104x1104, exchange input layer  | 10 steps per epoch, validation with big_val, recentered normalization\n",
    "d1_mse_ssim_recentered | 128x128 |Unet_base | 50 (48)| 32 | 16bit_32 |ssim+mse| 0.1454 | 0.1097 |  1104x1104, exchange input layer  | 10 steps per epoch, validation with big_val, recentered normalization\n",
    "d2_mse_ssim_recentered | 128x128 |Unet_base | 50 | 32 | 16bit_539 |ssim+mse| 0.0893 | 0.0815 |  1104x1104, exchange input layer  | 10 steps per epoch, validation with big_val, recentered normalization\n",
    "\n",
    "\n",
    "### Training sets\n",
    "\n",
    "Name | format | num. images | source | comments\n",
    "---|---|---|---|---\n",
    "8bit_156 | 8bit | 156 | /lunarc/nobackup/projects/snic2020-6-41/Shared_data/Saved_selected_16bit_images (first 52)| only 52 different images, 16bit images converted to 8bit by imread\n",
    "16bit_52| 16bit | 52 |/lunarc/nobackup/projects/snic2020-6-41/Shared_data/Saved_selected_16bit_images (first 52) | same images as in set 1, but actually as 16 bit\n",
    "val_set1 | 16bit | 48 | /lunarc/nobackup/projects/snic2020-6-41/Shared_data/Saved_selected_16bit_images (first 48) |\n",
    "16bit_8| 16bit | 8x3 |/lunarc/nobackup/projects/snic2020-6-41/Shared_data/Saved_selected_16bit_images (C02f05-C23f05) |\n",
    "16bit_16| 16bit | 16x3 |/lunarc/nobackup/projects/snic2020-6-41/Shared_data/Saved_selected_16bit_images (C02f05-D12f11) |\n",
    "16bit_32| 16bit | 32x3 |/lunarc/nobackup/projects/snic2020-6-41/Shared_data/Saved_selected_16bit_images (C02f05-F08f01) |\n",
    "16bit_56| 16bit | 56x3 |/lunarc/nobackup/projects/snic2020-6-41/Shared_data/Saved_selected_16bit_images (C02f05-J02f03) |\n",
    "val_set2 | 16bit | 96 | /lunarc/nobackup/projects/snic2020-6-41/Shared_data/Saved_selected_16bit_images (first 96) |\n",
    "16bit_256| 16bit | 56x3 |/lunarc/nobackup/projects/snic2020-6-41/Shared_data/Saved_selected_16bit_images (D14f05-D11f11) |\n",
    "big_val | 16bit | 300 | /lunarc/nobackup/projects/snic2020-6-41/Shared_data/Saved_selected_16bit_images (random triplets from first 2000 images) | indexes can be reproduced with [MakeValidationSet.ipynb]((https://github.com/Aitslab/virtualstain/blob/main/TeresaScheidt/src/MakeValidationSet.ipynb))\n",
    "16bit_539 | 16bit | 1617 | /lunarc/nobackup/projects/snic2020-6-41/Shared_data/Saved_selected_16bit_images (first 1917 images minus the images in big_val) |\n",
    "\n",
    "### Nets\n",
    "\n",
    "Name | number layers | input size | output channels | comments\n",
    "---|---|---|---|---\n",
    "Unet_base | 14 conv2d | 128x128 | 1 | based on AZ project\n",
    "Unet_2channel | 14 conv2d | 128x128 | 2 | same as Unet_base, just last layer changed to 2 output channels\n"
   ]
  },
  {
   "cell_type": "code",
   "execution_count": null,
   "metadata": {},
   "outputs": [],
   "source": []
  }
 ],
 "metadata": {
  "kernelspec": {
   "display_name": "Python 3",
   "language": "python",
   "name": "python3"
  },
  "language_info": {
   "codemirror_mode": {
    "name": "ipython",
    "version": 3
   },
   "file_extension": ".py",
   "mimetype": "text/x-python",
   "name": "python",
   "nbconvert_exporter": "python",
   "pygments_lexer": "ipython3",
   "version": "3.8.5"
  }
 },
 "nbformat": 4,
 "nbformat_minor": 4
}
