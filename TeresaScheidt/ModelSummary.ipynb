{
 "cells": [
  {
   "cell_type": "markdown",
   "metadata": {},
   "source": [
    "# Model summary\n",
    "\n",
    "The following notebook contains details of models trained for the Project 'Virtual Staining'. The trained models can be found on Lunarc *add path*. \n",
    "\n",
    "###  Models\n",
    "\n",
    "Model | Input_size | Net | Epochs | batch-size | training_set | loss | train_loss | val_loss | prediction setup |comments\n",
    "---|---|---|---|---|---|---|---|---|---|---\n",
    "mdl_d1_8bit_01 | 128x128 | Unet_base | 15 | 13 | 8bit_156, 130 images| mse| 0.5852 | 0.7176 | 128x128, overlap 32, no merge | only predicts d1 channel\n",
    "mdl_d2_8bit_01 | 128x128 |Unet_base | 15 | 13 | 8bit_156, 130 images | mse| 0.2803 | 0.2671| 128x128, overlap 32, no merge  | only predicts d2 channel\n",
    "mdl_d1_16bit_01 | 128x128 | Unet_base| 15 | 10 | 16bit_52, 40 images | mse| 0.6490  | 0.7561 |128x128, overlap 32, no merge  | only predicts d1 channel, 10 steps per epoch\n",
    "mdl_d2_16bit_01 | 128x128 |Unet_base | 15 | 10 | 16bit_52, 40 images | mse| 0.2977 | 0.4302| 128x128, overlap 32, no merge  | only predicts d2 channel, 10 steps per epoch\n",
    "\n",
    "\n",
    "### Training sets\n",
    "\n",
    "Name | format | num. images | source | comments\n",
    "---|---|---|---|---\n",
    "8bit_156 | 8bit | 156 | /lunarc/nobackup/projects/snic2020-6-41/Shared_data/Saved_selected_16bit_images (first 52)| only 52 different images, 16bit images converted to 8bit by imread\n",
    "16bit_52| 16bit | 52 |/lunarc/nobackup/projects/snic2020-6-41/Shared_data/Saved_selected_16bit_images (first 52) | same images as in set 1, but actually as 16 bit\n",
    "\n",
    "### Nets\n",
    "\n",
    "Name | number layers | input size | output channels | comments\n",
    "---|---|---|---|---\n",
    "Unet_base | 14 conv2d | 128x128 | 1 | based on AZ project\n",
    "Unet_2channel | 14 conv2d | 128x128 | 2 | same as Unet_base, just last layer changed to 2 output channels\n"
   ]
  },
  {
   "cell_type": "code",
   "execution_count": null,
   "metadata": {},
   "outputs": [],
   "source": []
  }
 ],
 "metadata": {
  "kernelspec": {
   "display_name": "Python 3",
   "language": "python",
   "name": "python3"
  },
  "language_info": {
   "codemirror_mode": {
    "name": "ipython",
    "version": 3
   },
   "file_extension": ".py",
   "mimetype": "text/x-python",
   "name": "python",
   "nbconvert_exporter": "python",
   "pygments_lexer": "ipython3",
   "version": "3.8.5"
  }
 },
 "nbformat": 4,
 "nbformat_minor": 4
}
