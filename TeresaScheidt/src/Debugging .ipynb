{
 "cells": [
  {
   "cell_type": "markdown",
   "metadata": {},
   "source": [
    "# Debugging Teresa Scheidt\n",
    "\n",
    "## Project: Prediction of Staining"
   ]
  },
  {
   "cell_type": "markdown",
   "metadata": {},
   "source": [
    "### Keras Models\n",
    "__Problem__: <br />\n",
    "Conv Layers were downsizing the image (tf.keras.layers.Conv2D) <br /> \n",
    "__possible Solution__: \n",
    "- set \"padding\" = \"same\" (in Keras 2.4 or newer)\n",
    "- set \"border_mode\" = \"same\" (in older Keras version)  \n",
    "*Remark*: I was using a different Keras version than specified, always check versions\n",
    "\n",
    "\n",
    "__Problem__: <br />\n",
    "training stopped after one epoch with Error 'WARNING:tensorflow:Your input ran out of data; interrupting training.'<br />\n",
    "__possible Solution__:\n",
    "- make sure step_per_epoch * batchsize equals number of training images\n",
    "- when using an Image generator, make sure the generator can generate more than one set of images (can be done by implemeting a while(true) loop around the batch generator)\n",
    "- when using tf.keras.preprocessing.image.ImageDataGenerator you can use repeat() \n"
   ]
  },
  {
   "cell_type": "markdown",
   "metadata": {},
   "source": [
    "### Images\n",
    "__Problem__: <br />\n",
    "skimage.io.imread converts 16bit images to 8bit <br /> \n",
    "__possible Solution__:\n",
    "- use cv2.imread(image, cv2.IMREAD_UNCHANGED) instead (needs pip install opencv-python)\n",
    "- skimage.io.imread(im).astype(np.uint16) does __not__ work (file type will be uint16 but max value is still 255)"
   ]
  }
 ],
 "metadata": {
  "kernelspec": {
   "display_name": "Python 3",
   "language": "python",
   "name": "python3"
  },
  "language_info": {
   "codemirror_mode": {
    "name": "ipython",
    "version": 3
   },
   "file_extension": ".py",
   "mimetype": "text/x-python",
   "name": "python",
   "nbconvert_exporter": "python",
   "pygments_lexer": "ipython3",
   "version": "3.8.5"
  }
 },
 "nbformat": 4,
 "nbformat_minor": 4
}
