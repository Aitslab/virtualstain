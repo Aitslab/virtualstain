{
 "cells": [
  {
   "cell_type": "markdown",
   "metadata": {},
   "source": [
    "# Evaluation of Models\n",
    "\n",
    "This Notebook can be used to evaluate existing models w.r.t. SSIM, MSE and MAE loss. "
   ]
  },
  {
   "cell_type": "code",
   "execution_count": null,
   "metadata": {},
   "outputs": [],
   "source": [
    "import os\n",
    "import os.path\n",
    "import numpy as np\n",
    "import glob\n",
    "import matplotlib.pyplot as plt\n",
    "import preprocessing_functions as pre\n",
    "import training_functions as training\n",
    "import skimage.io\n",
    "import prediction as pred\n",
    "import keras\n",
    "import loss_functions as lf"
   ]
  },
  {
   "cell_type": "code",
   "execution_count": null,
   "metadata": {},
   "outputs": [],
   "source": [
    "# load validation images\n",
    "wrk_dir = r\"C:\\Users\\tsche\\Desktop\\Master\\2. Semester\\Project Staining\"\n",
    "image_folder = 'validation'\n",
    "im_dir = os.path.join(wrk_dir, image_folder, '*.png')\n",
    "imd0_dir = os.path.join(wrk_dir, image_folder, '*d0.png')\n",
    "d0_images = glob.glob(imd0_dir)\n",
    "d0_stack = pre.stack_images(d0_images, num_channels = 1)\n",
    "images = glob.glob(im_dir)\n",
    "d12_images =  [x for x in images if x not in d0_images]\n",
    "d12_stack= pre.stack_images(d12_images, num_channels = 2)\n",
    "\n",
    "# normalize images\n",
    "(d0_norm, mean, std) = pre.norm_batch(d0_stack)\n",
    "(d12_norm, mean, std) = pre.norm_batch(d12_stack)\n",
    "d0_norm = pre.recenter(d0_norm)\n",
    "d12_norm = pre.recenter(d12_norm)"
   ]
  },
  {
   "cell_type": "code",
   "execution_count": null,
   "metadata": {},
   "outputs": [],
   "source": [
    "# define models\n",
    "model_path = r'..\\models'\n",
    "names = ['d1d2_mse_ssim_recentered']"
   ]
  },
  {
   "cell_type": "code",
   "execution_count": null,
   "metadata": {
    "scrolled": true
   },
   "outputs": [],
   "source": [
    "for name in names: \n",
    "    model = keras.models.load_model(os.path.join(model_path,name), compile=False)\n",
    "    new_model = training.get_model(1104,1104,2)\n",
    "    new_model.set_weights(model.get_weights())\n",
    "    print(name, 'new model initiated, start prediction')\n",
    "    MAE1, MSE1, SSIM1, MAE2, MSE2, SSIM2 = pred.eval(new_model, d0_norm, d12_norm, 1104)\n",
    "    print(name, 'mae d1', MAE1, 'mse d1', MSE1, 'ssim d1', SSIM1, 'mae d2', MAE2, 'mse d2', MSE2, 'ssim d2', SSIM2)"
   ]
  }
 ],
 "metadata": {
  "kernelspec": {
   "display_name": "staining",
   "language": "python",
   "name": "staining"
  },
  "language_info": {
   "codemirror_mode": {
    "name": "ipython",
    "version": 3
   },
   "file_extension": ".py",
   "mimetype": "text/x-python",
   "name": "python",
   "nbconvert_exporter": "python",
   "pygments_lexer": "ipython3",
   "version": "3.8.5"
  }
 },
 "nbformat": 4,
 "nbformat_minor": 4
}
