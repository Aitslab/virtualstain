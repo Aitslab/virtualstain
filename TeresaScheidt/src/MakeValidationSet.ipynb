{
 "cells": [
  {
   "cell_type": "markdown",
   "metadata": {},
   "source": [
    "# Notebook to make random Validation set\n",
    "\n",
    "This notebook can be used to produce a validation set. To reporduce the validation set used in my project, the image folder should contain 1917 images and use random.seed(12). "
   ]
  },
  {
   "cell_type": "code",
   "execution_count": null,
   "metadata": {},
   "outputs": [],
   "source": [
    "import os\n",
    "import os.path\n",
    "import numpy as np\n",
    "import glob\n",
    "import matplotlib.pyplot as plt\n",
    "import preprocessing_functions as pre\n",
    "import training_functions as training"
   ]
  },
  {
   "cell_type": "code",
   "execution_count": null,
   "metadata": {},
   "outputs": [],
   "source": [
    "images0 = glob.glob(r\"C:\\Users\\tsche\\Desktop\\Master\\2. Semester\\Project Staining\\16bitImages\\*d0.png\")\n",
    "images1 = glob.glob(r\"C:\\Users\\tsche\\Desktop\\Master\\2. Semester\\Project Staining\\16bitImages\\*d1.png\")\n",
    "images2 = glob.glob(r\"C:\\Users\\tsche\\Desktop\\Master\\2. Semester\\Project Staining\\16bitImages\\*d2.png\")\n",
    "\n",
    "val_images0 = [i.replace('16bitImages','validation') for i in images0]\n",
    "val_images1 = [i.replace('16bitImages','validation') for i in images1]\n",
    "val_images2 = [i.replace('16bitImages','validation') for i in images2]"
   ]
  },
  {
   "cell_type": "code",
   "execution_count": null,
   "metadata": {},
   "outputs": [],
   "source": [
    "import random\n",
    "random.seed(12)\n",
    "index = random.sample(range(0, len(images0)), 100)\n",
    "index.sort()"
   ]
  },
  {
   "cell_type": "code",
   "execution_count": null,
   "metadata": {},
   "outputs": [],
   "source": [
    "import cv2\n",
    "for i in range (len(index)):\n",
    "    im = cv2.imread(images0[index[i]], cv2.IMREAD_UNCHANGED)\n",
    "    cv2.imwrite(val_images0[index[i]], im)\n",
    "    im = cv2.imread(images1[index[i]], cv2.IMREAD_UNCHANGED)\n",
    "    cv2.imwrite(val_images1[index[i]], im)\n",
    "    im = cv2.imread(images2[index[i]], cv2.IMREAD_UNCHANGED)\n",
    "    cv2.imwrite(val_images2[index[i]], im)"
   ]
  }
 ],
 "metadata": {
  "kernelspec": {
   "display_name": "staining",
   "language": "python",
   "name": "staining"
  },
  "language_info": {
   "codemirror_mode": {
    "name": "ipython",
    "version": 3
   },
   "file_extension": ".py",
   "mimetype": "text/x-python",
   "name": "python",
   "nbconvert_exporter": "python",
   "pygments_lexer": "ipython3",
   "version": "3.8.5"
  }
 },
 "nbformat": 4,
 "nbformat_minor": 4
}
