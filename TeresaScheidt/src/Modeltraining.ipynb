{
 "cells": [
  {
   "cell_type": "markdown",
   "metadata": {},
   "source": [
    "# Modeltraining\n",
    "\n",
    "This notebook is used to train models that predict different stainings of microscopy images. "
   ]
  },
  {
   "cell_type": "code",
   "execution_count": null,
   "metadata": {},
   "outputs": [],
   "source": [
    "import os\n",
    "import os.path\n",
    "import numpy as np\n",
    "import glob\n",
    "import matplotlib.pyplot as plt\n",
    "import preprocessing_functions as pre\n",
    "import training_functions as training\n",
    "import skimage.io\n",
    "import prediction as pred\n",
    "import keras"
   ]
  },
  {
   "cell_type": "code",
   "execution_count": null,
   "metadata": {},
   "outputs": [],
   "source": [
    "# directories\n",
    "dir_valim = r\"C:\\Users\\tsche\\Desktop\\Master\\2. Semester\\Project Staining\\validation\"\n",
    "dir_im = r\"C:\\Users\\tsche\\Desktop\\Master\\2. Semester\\Project Staining\\16bitImages\"\n",
    "dir_results = r'C:\\Users\\tsche\\Desktop\\Master\\2. Semester\\Project Staining\\gitrepo\\TeresaScheidt\\training_results'"
   ]
  },
  {
   "cell_type": "code",
   "execution_count": null,
   "metadata": {},
   "outputs": [],
   "source": [
    "# define image folders\n",
    "val_images = glob.glob(dir_valim, '*d0.png') \n",
    "X_val = pre.stack_images(val_images, num_channels = 1)\n",
    "val_images1 = glob.glob(dir_valim, '*d1.png')\n",
    "Y_val_1 = pre.stack_images(val_images1, num_channels = 1)\n",
    "val_images2 = glob.glob(dir_valim, '*d2.png')\n",
    "Y_val_2 = pre.stack_images(val_images2, num_channels = 1)"
   ]
  },
  {
   "cell_type": "code",
   "execution_count": null,
   "metadata": {},
   "outputs": [],
   "source": [
    "# Imageset\n",
    "images1 = glob.glob(dir_im, '*d0.png')\n",
    "val_images = [i.replace('validation','16bitImages') for i in val_images]\n",
    "images =  [x for x in images1 if x not in val_images]\n",
    "X_1 = pre.stack_images(images, num_channels = 1)\n",
    "images2 = glob.glob(dir_valim, '*d0.png')\n",
    "val_images2 = [i.replace('validation','16bitImages') for i in val_images2]\n",
    "all_im = images1 + val_images2\n",
    "images =  [x for x in images2 if x not in all_im]\n",
    "Y_1 = pre.stack_images(images, num_channels = 2)"
   ]
  },
  {
   "cell_type": "code",
   "execution_count": null,
   "metadata": {},
   "outputs": [],
   "source": [
    "# normalize images\n",
    "(x_1, mean, std) = pre.norm_batch(X_1)\n",
    "x_val = pre.norm(X_val, mean, std)\n",
    "(y_1,mean,std) = pre.norm_batch(Y_1)\n",
    "y_val = pre.norm(Y_val, mean, std)"
   ]
  },
  {
   "cell_type": "code",
   "execution_count": null,
   "metadata": {},
   "outputs": [],
   "source": [
    "# recenter images\n",
    "X_train = pre.recenter(x_1)\n",
    "Y_train = pre.recenter(y)\n",
    "x_val = pre.recenter(x_val)\n",
    "y_val = pre.recenter(y_val)"
   ]
  },
  {
   "cell_type": "code",
   "execution_count": null,
   "metadata": {},
   "outputs": [],
   "source": [
    "# define modelname\n",
    "names = ['d1_mse_ssim_recentered','d2_mse_ssim_recentered']"
   ]
  },
  {
   "cell_type": "code",
   "execution_count": null,
   "metadata": {},
   "outputs": [],
   "source": [
    "import importlib\n",
    "import cv2\n",
    "importlib.reload(training)\n",
    "for name in names:\n",
    "    # define imageset used for each model here\n",
    "    \n",
    "    #if name == 'd1_mse_ssim_recentered':\n",
    "     #   Y_train = Y_train_1\n",
    "     #  y_val = y_val_1\n",
    "    #if name == 'd2_mse_ssim_recentered':\n",
    "     #   Y_train = Y_train_2\n",
    "     #   y_val = y_val_2\n",
    "    \n",
    "    history = training.train(X_train,Y_train, x_val, y_val,2, name)\n",
    "    dir = os.path.join(dir_results, name +'_loss.png')\n",
    "    plt.plot(history.history['loss'])\n",
    "    plt.plot(history.history['val_loss'])\n",
    "    plt.title(name)\n",
    "    plt.ylabel('loss')\n",
    "    plt.xlabel('epoch')\n",
    "    plt.legend(['train', 'test'], loc='upper left')\n",
    "    plt.savefig(dir)\n",
    "    plt.show()\n",
    "    model = keras.models.load_model(name, compile=False)\n",
    "    image = x_val[0]\n",
    "    output = pred.predict(model, image, 128, 128, num_outputs=2)\n",
    "    output = pre.center_back(output)\n",
    "    output_norm = pre.unnormalize(output, mean, std)\n",
    "    im = output_norm[:,:,0]\n",
    "    dir_d1 = os.path.join(dir_results, name + '_d1.png')\n",
    "    dir_d2 = os.path.join(dir_results, name +'_d2.png')\n",
    "    cv2.imwrite(dir_d1, im.astype(np.uint16))\n",
    "    #skimage.io.imsave(dir_d1, im) #for 8bit image\n",
    "    im = output_norm[:,:,1]\n",
    "    cv2.imwrite(dir_d2, im.astype(np.uint16))\n",
    "    #skimage.io.imsave(dir_d2, im)"
   ]
  }
 ],
 "metadata": {
  "kernelspec": {
   "display_name": "staining",
   "language": "python",
   "name": "staining"
  },
  "language_info": {
   "codemirror_mode": {
    "name": "ipython",
    "version": 3
   },
   "file_extension": ".py",
   "mimetype": "text/x-python",
   "name": "python",
   "nbconvert_exporter": "python",
   "pygments_lexer": "ipython3",
   "version": "3.8.5"
  }
 },
 "nbformat": 4,
 "nbformat_minor": 4
}
