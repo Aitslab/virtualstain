{
 "cells": [
  {
   "cell_type": "markdown",
   "metadata": {},
   "source": [
    "# Prediction of Staining\n",
    "This notebook can be used to predict images with existing models and plot the output, compare it to the target images, plot histograms etc."
   ]
  },
  {
   "cell_type": "code",
   "execution_count": null,
   "metadata": {},
   "outputs": [],
   "source": [
    "import os\n",
    "import os.path\n",
    "import numpy as np\n",
    "import glob\n",
    "import matplotlib.pyplot as plt\n",
    "import preprocessing_functions as pre\n",
    "import training_functions as training\n",
    "import skimage.io\n",
    "import prediction as pred\n",
    "import keras"
   ]
  },
  {
   "cell_type": "markdown",
   "metadata": {},
   "source": [
    "Load d0-images you want to convert and the d1 and d2 images for comaprison."
   ]
  },
  {
   "cell_type": "code",
   "execution_count": null,
   "metadata": {},
   "outputs": [],
   "source": [
    "# define directories\n",
    "wrk_dir = r\"C:\\Users\\tsche\\Desktop\\Master\\2. Semester\\Project Staining\"\n",
    "image_folder = 'Val_Images'\n",
    "im_dir = os.path.join(wrk_dir, image_folder, '*.png')\n",
    "imd0_dir = os.path.join(wrk_dir, image_folder, '*d0.png')"
   ]
  },
  {
   "cell_type": "code",
   "execution_count": null,
   "metadata": {},
   "outputs": [],
   "source": [
    "#load images\n",
    "d0_images = glob.glob(imd0_dir)\n",
    "d0_stack = pre.stack_images(d0_images, num_channels = 1)\n",
    "images = glob.glob(im_dir)\n",
    "d12_images =  [x for x in images if x not in d0_images]\n",
    "d12_stack= pre.stack_images(d12_images, num_channels = 2)"
   ]
  },
  {
   "cell_type": "code",
   "execution_count": null,
   "metadata": {},
   "outputs": [],
   "source": [
    "# normalize images\n",
    "(d0_norm, mean1, std1) = pre.norm_batch(d0_stack)\n",
    "(d12_norm, mean, std) = pre.norm_batch(d12_stack)\n",
    "#d0_norm = pre.recenter(d0_norm)\n",
    "#d12_norm = pre.recenter(d12_norm)"
   ]
  },
  {
   "cell_type": "markdown",
   "metadata": {},
   "source": [
    "Plot images and histograms if interested."
   ]
  },
  {
   "cell_type": "code",
   "execution_count": null,
   "metadata": {},
   "outputs": [],
   "source": [
    "# plot images\n",
    "plt.figure(figsize=(10,50)) \n",
    "n = d0_stack.shape[0]\n",
    "for p in range(n):\n",
    "    plt.subplot(n,3,1+3*p)    \n",
    "    plt.imshow(d0_stack[p], cmap='gray')\n",
    "    plt.axis('off')\n",
    "    if p == 0:\n",
    "        plt.title('d0')\n",
    "\n",
    "    plt.subplot(n,3,2+3*p)    \n",
    "    plt.imshow(d12_stack[p,:,:,0], cmap='gray')\n",
    "    plt.axis('off')\n",
    "    if p == 0:\n",
    "        plt.title('d1')\n",
    "    \n",
    "    plt.subplot(n,3,3+3*p)    \n",
    "    plt.imshow(d12_stack[p,:,:,1], cmap='gray')\n",
    "    plt.axis('off')\n",
    "    if p == 0:\n",
    "        plt.title('d2')"
   ]
  },
  {
   "cell_type": "code",
   "execution_count": null,
   "metadata": {},
   "outputs": [],
   "source": [
    "# plot histograms\n",
    "plt.figure(figsize=(15,10))\n",
    "plt.subplot(2,3,1)\n",
    "histogram, bin_edges = np.histogram(d0_stack[0], bins=65535, range=(0,65535))\n",
    "plt.plot(bin_edges[0:-1], histogram)  \n",
    "plt.title(\"input\")\n",
    "\n",
    "plt.subplot(2,3,2)\n",
    "histogram, bin_edges = np.histogram(d12_stack[0,:,:,0], bins=65535, range=(0,65535))\n",
    "plt.plot(bin_edges[0:-1], histogram)  \n",
    "plt.title(\"d1 output\")\n",
    "\n",
    "plt.subplot(2,3,3)\n",
    "histogram, bin_edges = np.histogram(d12_stack[0,:,:,1], bins=65535, range=(0,65535))\n",
    "plt.plot(bin_edges[0:-1], histogram)  \n",
    "plt.title(\"d2 output\")\n",
    "\n",
    "plt.subplot(2,3,4)\n",
    "histogram, bin_edges = np.histogram(d0_norm[0], bins=65535, range=(-1,10))\n",
    "plt.plot(bin_edges[0:-1], histogram)  \n",
    "plt.title(\"Normalized input\")\n",
    "\n",
    "plt.subplot(2,3,5)\n",
    "histogram, bin_edges = np.histogram(d12_norm[0,:,:,0], bins=65535, range=(-1,10))\n",
    "plt.plot(bin_edges[0:-1], histogram)  \n",
    "plt.title(\"Normalized  d1 output\")\n",
    "\n",
    "plt.subplot(2,3,6)\n",
    "histogram, bin_edges = np.histogram(d12_norm[0,:,:,1], bins=65535, range=(-1,10))\n",
    "plt.plot(bin_edges[0:-1], histogram)  \n",
    "plt.title(\"Normalized  d2 output\")\n",
    "\n",
    "plt.show()"
   ]
  },
  {
   "cell_type": "markdown",
   "metadata": {},
   "source": [
    "Load desired model and convert images"
   ]
  },
  {
   "cell_type": "code",
   "execution_count": null,
   "metadata": {
    "scrolled": true
   },
   "outputs": [],
   "source": [
    "model_name = 'd1d2_32im_ssim2'\n",
    "mdl_dir = r'..\\models'\n",
    "model = keras.models.load_model(os.path.join(mdl_dir,model_name), compile = False)"
   ]
  },
  {
   "cell_type": "code",
   "execution_count": null,
   "metadata": {
    "scrolled": true
   },
   "outputs": [],
   "source": [
    "model_name = 'd1d2_32im'\n",
    "mdl_dir = r'..\\models'\n",
    "model = keras.models.load_model(os.path.join(mdl_dir,model_name))"
   ]
  },
  {
   "cell_type": "code",
   "execution_count": null,
   "metadata": {},
   "outputs": [],
   "source": [
    "# change input layer of model \n",
    "new_model = training.get_model(1104,1104)\n",
    "new_model.set_weights(model.get_weights())"
   ]
  },
  {
   "cell_type": "code",
   "execution_count": null,
   "metadata": {
    "scrolled": false
   },
   "outputs": [],
   "source": [
    "output = new_model.predict(images, batch_size = 4, verbose = 1)\n",
    "#output_norm = pre.center_back(output)\n",
    "output_norm = pre.unnormalize(output_norm, mean, std)\n"
   ]
  },
  {
   "cell_type": "code",
   "execution_count": null,
   "metadata": {},
   "outputs": [],
   "source": [
    "# save images \n",
    "num_im = output.shape[0]\n",
    "im_dir = '..\\images'\n",
    "for i in range(num_im):\n",
    "        im1 = output_norm[i,:,:,0]\n",
    "        dir_d1 = os.path.join(im_dir, name + str(i) + '_d1.png')\n",
    "        dir_d2 = os.path.join(im_dir, name + str(i) + '_d2.png')\n",
    "        skimage.io.imsave(dir_d1, im1)\n",
    "        #cv2.imwrite(dir_d1, im1.astype(np.uint16))\n",
    "        im2 = output_norm[i,:,:,1]\n",
    "        skimage.io.imsave(dir_d2, im2)\n",
    "        #cv2.imwrite(dir_d2, im2.astype(np.uint16))"
   ]
  },
  {
   "cell_type": "markdown",
   "metadata": {},
   "source": [
    "Plot predicted images and histograms of output."
   ]
  },
  {
   "cell_type": "code",
   "execution_count": null,
   "metadata": {},
   "outputs": [],
   "source": [
    "# plot predicted images\n",
    "plt.figure(figsize=(10,50)) \n",
    "n = out.shape[0]\n",
    "for p in range(n):\n",
    "    plt.subplot(n,3,1+3*p)    \n",
    "    plt.imshow(d0_stack[p], cmap='gray')\n",
    "    if p == 0:\n",
    "        plt.title('input image')\n",
    "\n",
    "    plt.subplot(n,3,2+3*p)    \n",
    "    plt.imshow(out[p,:,:,0], cmap='gray')\n",
    "    if p == 0:\n",
    "        plt.title('output network')\n",
    "    \n",
    "    plt.subplot(n,3,3+3*p)    \n",
    "    plt.imshow(out[p,:,:,1], cmap='gray')\n",
    "    if p == 0:\n",
    "        plt.title('output network')"
   ]
  },
  {
   "cell_type": "code",
   "execution_count": null,
   "metadata": {},
   "outputs": [],
   "source": [
    "# plot histogram of converted image\n",
    "plt.figure(figsize=(15,10))\n",
    "plt.subplot(2,3,1)\n",
    "histogram, bin_edges = np.histogram(d12_stack[0,:,:,0], bins=65535, range=(0,65535))\n",
    "plt.plot(bin_edges[0:-1], histogram)  \n",
    "plt.title(\"d1 target\")\n",
    "\n",
    "plt.subplot(2,3,4)\n",
    "histogram, bin_edges = np.histogram(d12_stack[0,:,:,1], bins=65535, range=(0,65535))\n",
    "plt.plot(bin_edges[0:-1], histogram)  \n",
    "plt.title(\"d2 target\")\n",
    "\n",
    "plt.subplot(2,3,2)\n",
    "histogram, bin_edges = np.histogram(output_norm[0,:,:,0], bins=65535, range=(-1000,64535))\n",
    "plt.plot(bin_edges[0:-1], histogram)  \n",
    "plt.title(\"Unnormalized d1 output\")\n",
    "\n",
    "plt.subplot(2,3,3)\n",
    "histogram, bin_edges = np.histogram(output[0,:,:,0], bins=65535, range=(-1,10))\n",
    "plt.plot(bin_edges[0:-1], histogram)  \n",
    "plt.title(\"d1 output\")\n",
    "\n",
    "plt.subplot(2,3,5)\n",
    "histogram, bin_edges = np.histogram(output_norm[0,:,:,1], bins=65535, range=(-1000,64535))\n",
    "plt.plot(bin_edges[0:-1], histogram)  \n",
    "plt.title(\"Unnormalized d2 output\")\n",
    "\n",
    "plt.subplot(2,3,6)\n",
    "histogram, bin_edges = np.histogram(output[0,:,:,1], bins=65535, range=(-1,10))\n",
    "plt.plot(bin_edges[0:-1], histogram)  \n",
    "plt.title(\"d2 output\")\n",
    "\n",
    "#plt.savefig()\n",
    "plt.show()"
   ]
  }
 ],
 "metadata": {
  "kernelspec": {
   "display_name": "staining",
   "language": "python",
   "name": "staining"
  },
  "language_info": {
   "codemirror_mode": {
    "name": "ipython",
    "version": 3
   },
   "file_extension": ".py",
   "mimetype": "text/x-python",
   "name": "python",
   "nbconvert_exporter": "python",
   "pygments_lexer": "ipython3",
   "version": "3.8.5"
  }
 },
 "nbformat": 4,
 "nbformat_minor": 4
}
